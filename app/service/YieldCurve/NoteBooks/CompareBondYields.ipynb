{
 "cells": [
  {
   "cell_type": "code",
   "execution_count": 8,
   "metadata": {
    "collapsed": true,
    "ExecuteTime": {
     "end_time": "2023-05-31T14:51:56.939123600Z",
     "start_time": "2023-05-31T14:51:55.937620800Z"
    }
   },
   "outputs": [
    {
     "name": "stdout",
     "output_type": "stream",
     "text": [
      "Requirement already satisfied: QuantLib in d:\\projects\\pythonproject\\oe\\oe_trading_api\\venv\\lib\\site-packages (1.30)\n"
     ]
    }
   ],
   "source": [
    "!pip install QuantLib"
   ]
  },
  {
   "cell_type": "code",
   "execution_count": 9,
   "outputs": [],
   "source": [
    "import pandas as pd\n",
    "import QuantLib as ql"
   ],
   "metadata": {
    "collapsed": false,
    "ExecuteTime": {
     "end_time": "2023-05-31T14:51:56.960666100Z",
     "start_time": "2023-05-31T14:51:56.940125200Z"
    }
   }
  },
  {
   "cell_type": "code",
   "execution_count": 10,
   "outputs": [],
   "source": [
    "pgbs = pd.DataFrame(\n",
    "    {'maturity': ['15-06-2020', '15-04-2021', '17-10-2022', '25-10-2023',\n",
    "                  '15-02-2024', '15-10-2025', '21-07-2026', '14-04-2027',\n",
    "                  '17-10-2028', '15-06-2029', '15-02-2030', '18-04-2034',\n",
    "                  '15-04-2037', '15-02-2045'],\n",
    "    'coupon': [4.8, 3.85, 2.2, 4.95,  5.65, 2.875, 2.875, 4.125,\n",
    "                2.125, 1.95, 3.875, 2.25, 4.1, 4.1],\n",
    "    'px': [102.532, 105.839, 107.247, 119.824, 124.005, 116.215, 117.708,\n",
    "            128.027, 115.301, 114.261, 133.621, 119.879, 149.427, 159.177]})\n",
    "\n",
    "calendar = ql.TARGET()\n",
    "today = calendar.adjust(ql.Date(19, 12, 2019))\n",
    "ql.Settings.instance().evaluationDate = today\n",
    "\n",
    "bondSettlementDays = 2\n",
    "bondSettlementDate = calendar.advance(\n",
    "    today,\n",
    "    ql.Period(bondSettlementDays, ql.Days))\n",
    "frequency = ql.Annual\n",
    "dc = ql.ActualActual(ql.ActualActual.ISMA)\n",
    "accrualConvention = ql.ModifiedFollowing\n",
    "convention = ql.ModifiedFollowing\n",
    "redemption = 100.0\n",
    "\n",
    "instruments = []\n",
    "for idx, row in pgbs.iterrows():\n",
    "    maturity = ql.Date(row.maturity, '%d-%m-%Y')\n",
    "    schedule = ql.Schedule(\n",
    "        bondSettlementDate,\n",
    "        maturity,\n",
    "        ql.Period(frequency),\n",
    "        calendar,\n",
    "        accrualConvention,\n",
    "        accrualConvention,\n",
    "        ql.DateGeneration.Backward,\n",
    "        False)\n",
    "    helper = ql.FixedRateBondHelper(\n",
    "            ql.QuoteHandle(ql.SimpleQuote(row.px)),\n",
    "            bondSettlementDays,\n",
    "            100.0,\n",
    "            schedule,\n",
    "            [row.coupon / 100],\n",
    "            dc,\n",
    "            convention,\n",
    "            redemption)\n",
    "\n",
    "    instruments.append(helper)\n",
    "\n",
    "params = [bondSettlementDate, instruments, dc]\n",
    "\n",
    "piecewiseMethods = {\n",
    "    \"PiecewiseFlatForward\": ql.PiecewiseFlatForward(*params),\n",
    "    \"LogLinearDiscount\": ql.PiecewiseLogLinearDiscount(*params),\n",
    "    \"LogCubicDiscount\": ql.PiecewiseLogCubicDiscount(*params),\n",
    "    \"LinearZero\": ql.PiecewiseLinearZero(*params),\n",
    "    \"CubicZero\": ql.PiecewiseCubicZero(*params),\n",
    "    \"LinearForward\": ql.PiecewiseLinearForward(*params),\n",
    "    \"SplineCubicDiscount\": ql.PiecewiseSplineCubicDiscount(*params)\n",
    "}\n",
    "\n",
    "\n"
   ],
   "metadata": {
    "collapsed": false,
    "ExecuteTime": {
     "end_time": "2023-05-31T14:51:56.990187Z",
     "start_time": "2023-05-31T14:51:56.961674300Z"
    }
   }
  },
  {
   "cell_type": "code",
   "execution_count": 11,
   "outputs": [
    {
     "name": "stdout",
     "output_type": "stream",
     "text": [
      "                     PiecewiseFlatForward  LogLinearDiscount  \\\n",
      "December 23rd, 2019              1.000000           1.000000   \n",
      "June 15th, 2020                  1.002192           1.002192   \n",
      "April 15th, 2021                 1.007589           1.007589   \n",
      "October 17th, 2022               1.009800           1.009800   \n",
      "October 25th, 2023               1.006457           1.006457   \n",
      "February 15th, 2024              1.003781           1.003781   \n",
      "October 15th, 2025               0.994422           0.994422   \n",
      "July 21st, 2026                  0.987640           0.987640   \n",
      "April 14th, 2027                 0.978990           0.978990   \n",
      "October 17th, 2028               0.966528           0.966528   \n",
      "June 15th, 2029                  0.959323           0.959323   \n",
      "February 15th, 2030              0.947371           0.947371   \n",
      "April 18th, 2034                 0.887530           0.887530   \n",
      "April 15th, 2037                 0.823855           0.823855   \n",
      "February 15th, 2045              0.682687           0.682687   \n",
      "\n",
      "                     LogCubicDiscount  LinearZero  CubicZero  LinearForward  \\\n",
      "December 23rd, 2019          1.000000    1.000000   1.000000       1.000000   \n",
      "June 15th, 2020              1.002192    1.002192   1.002192       1.002192   \n",
      "April 15th, 2021             1.007590    1.007589   1.007589       1.007589   \n",
      "October 17th, 2022           1.009775    1.009788   1.009776       1.009756   \n",
      "October 25th, 2023           1.006404    1.006432   1.006405       1.006364   \n",
      "February 15th, 2024          1.003683    1.003726   1.003681       1.003686   \n",
      "October 15th, 2025           0.994403    0.994388   0.994385       0.994474   \n",
      "July 21st, 2026              0.987596    0.987582   0.987575       0.987712   \n",
      "April 14th, 2027             0.978923    0.978906   0.978897       0.979022   \n",
      "October 17th, 2028           0.966527    0.966496   0.966504       0.966551   \n",
      "June 15th, 2029              0.959300    0.959276   0.959275       0.959302   \n",
      "February 15th, 2030          0.947295    0.947290   0.947279       0.947334   \n",
      "April 18th, 2034             0.887501    0.887321   0.887360       0.888336   \n",
      "April 15th, 2037             0.823655    0.823386   0.823506       0.824101   \n",
      "February 15th, 2045          0.683053    0.681280   0.682019       0.689738   \n",
      "\n",
      "                     SplineCubicDiscount  \n",
      "December 23rd, 2019             1.000000  \n",
      "June 15th, 2020                 1.002192  \n",
      "April 15th, 2021                1.007590  \n",
      "October 17th, 2022              1.009775  \n",
      "October 25th, 2023              1.006404  \n",
      "February 15th, 2024             1.003683  \n",
      "October 15th, 2025              0.994404  \n",
      "July 21st, 2026                 0.987597  \n",
      "April 14th, 2027                0.978924  \n",
      "October 17th, 2028              0.966527  \n",
      "June 15th, 2029                 0.959300  \n",
      "February 15th, 2030             0.947296  \n",
      "April 18th, 2034                0.887516  \n",
      "April 15th, 2037                0.823668  \n",
      "February 15th, 2045             0.683013  \n"
     ]
    }
   ],
   "source": [
    "df = pd.DataFrame(index=[row[0] for row in piecewiseMethods['LogLinearDiscount'].nodes()])\n",
    "for curve in piecewiseMethods:\n",
    "    dfs = [piecewiseMethods[curve].discount(idx) for idx in df.index]\n",
    "    df[curve] = dfs\n",
    "\n",
    "display(df)"
   ],
   "metadata": {
    "collapsed": false,
    "ExecuteTime": {
     "end_time": "2023-05-31T14:51:57.002168900Z",
     "start_time": "2023-05-31T14:51:56.993170900Z"
    }
   }
  },
  {
   "cell_type": "code",
   "execution_count": 11,
   "outputs": [],
   "source": [],
   "metadata": {
    "collapsed": false,
    "ExecuteTime": {
     "end_time": "2023-05-31T14:51:57.027537800Z",
     "start_time": "2023-05-31T14:51:57.002168900Z"
    }
   }
  }
 ],
 "metadata": {
  "kernelspec": {
   "display_name": "Python 3",
   "language": "python",
   "name": "python3"
  },
  "language_info": {
   "codemirror_mode": {
    "name": "ipython",
    "version": 2
   },
   "file_extension": ".py",
   "mimetype": "text/x-python",
   "name": "python",
   "nbconvert_exporter": "python",
   "pygments_lexer": "ipython2",
   "version": "2.7.6"
  }
 },
 "nbformat": 4,
 "nbformat_minor": 0
}
